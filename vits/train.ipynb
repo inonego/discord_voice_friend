{
 "cells": [
  {
   "attachments": {},
   "cell_type": "markdown",
   "metadata": {},
   "source": [
    "Fill this cell as you locate the file"
   ]
  },
  {
   "cell_type": "code",
   "execution_count": 1,
   "metadata": {},
   "outputs": [],
   "source": [
    "model_name = 'majo_no_tabitabi'\n",
    "config_path = r'datasets\\majo_no_tabitabi\\config.json'\n",
    "audio_dir = r'datasets\\majo_no_tabitabi\\audio'\n",
    "filelist_train_path = r'datasets\\majo_no_tabitabi\\filelist_train.txt'\n",
    "filelist_val_path = r'datasets\\majo_no_tabitabi\\filelist_val.txt'\n",
    "speakers = ['elaina', 'fran', 'saya', 'sheila']\n",
    "cleaners = 'korean_cleaners'"
   ]
  },
  {
   "attachments": {},
   "cell_type": "markdown",
   "metadata": {},
   "source": [
    "### Resample"
   ]
  },
  {
   "cell_type": "code",
   "execution_count": 2,
   "metadata": {},
   "outputs": [],
   "source": [
    "import soundfile as sf\n",
    "from tqdm import tqdm\n",
    "import librosa\n",
    "import os\n",
    "\n",
    "sr_dst = 22050\n",
    "for file in tqdm(os.listdir(audio_dir)):\n",
    "    if file.endswith('.wav') or file.endswith('.mp3'):\n",
    "        audio_path = os.path.join(audio_dir, file)\n",
    "        audio, sr = librosa.load(audio_path, sr=None)\n",
    "        audio_path = os.path.join(audio_dir, file.replace('.mp3', '.wav'))\n",
    "        audio = librosa.resample(audio, sr, sr_dst)\n",
    "        audio = librosa.to_mono(audio)\n",
    "        sf.write(audio_path, audio, sr_dst)\n"
   ]
  },
  {
   "attachments": {},
   "cell_type": "markdown",
   "metadata": {},
   "source": [
    "### Preprocess"
   ]
  },
  {
   "cell_type": "code",
   "execution_count": null,
   "metadata": {},
   "outputs": [],
   "source": [
    "# Single speaker\n",
    "! python preprocess.py --text_index 1 --filelists {filelist_train_path} {filelist_val_path} --text_cleaners {cleaners}"
   ]
  },
  {
   "cell_type": "code",
   "execution_count": 3,
   "metadata": {},
   "outputs": [],
   "source": [
    "# Mutiple speakers\n",
    "! python preprocess.py --text_index 2 --filelists {filelist_train_path} {filelist_val_path} --text_cleaners {cleaners}"
   ]
  },
  {
   "cell_type": "code",
   "execution_count": 4,
   "metadata": {},
   "outputs": [],
   "source": [
    "import json\n",
    "\n",
    "filelist_train_clean_path = filelist_train_path.replace('.txt', '_cleaned.txt')\n",
    "filelist_val_clean_path = filelist_val_path.replace('.txt', '_cleaned.txt')\n",
    "\n",
    "with open(r\"example\\configs\\korean.json\", \"r\") as f:\n",
    "    data = json.load(f)\n",
    "data['data']['training_files'] = filelist_train_clean_path\n",
    "data['data']['validation_files'] = filelist_val_clean_path\n",
    "data['data']['text_cleaners'] = cleaners\n",
    "data['data']['n_speakers'] = len(speakers)\n",
    "data['speakers'] = speakers\n",
    "with open(config_path, \"w\") as f:\n",
    "    json.dump(data, f, indent=4)"
   ]
  },
  {
   "attachments": {},
   "cell_type": "markdown",
   "metadata": {},
   "source": [
    "### Train\n",
    "If you want to use pretrained model, locate pretrained model at \"./checkpoints/{model_name}/\" with name \"D_0.pth\" and \"G_0.pth\" before you run following command."
   ]
  },
  {
   "cell_type": "code",
   "execution_count": null,
   "metadata": {},
   "outputs": [],
   "source": [
    "# Single speaker\n",
    "print(f'python train.py -c {config_path} -m {model_name}')"
   ]
  },
  {
   "cell_type": "code",
   "execution_count": null,
   "metadata": {},
   "outputs": [],
   "source": [
    "# Mutiple speakers\n",
    "print(f'python train_ms.py -c {config_path} -m {model_name}')"
   ]
  },
  {
   "attachments": {},
   "cell_type": "markdown",
   "metadata": {},
   "source": [
    "### Tensorboard"
   ]
  },
  {
   "cell_type": "code",
   "execution_count": null,
   "metadata": {},
   "outputs": [],
   "source": [
    "print(f'tensorboard --logdir=checkpoints/{model_name} --port=6006')"
   ]
  }
 ],
 "metadata": {
  "kernelspec": {
   "display_name": ".venv",
   "language": "python",
   "name": "python3"
  },
  "language_info": {
   "codemirror_mode": {
    "name": "ipython",
    "version": 3
   },
   "file_extension": ".py",
   "mimetype": "text/x-python",
   "name": "python",
   "nbconvert_exporter": "python",
   "pygments_lexer": "ipython3",
   "version": "3.10.8"
  },
  "orig_nbformat": 4
 },
 "nbformat": 4,
 "nbformat_minor": 2
}
